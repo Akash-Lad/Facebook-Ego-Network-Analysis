{
  "nbformat": 4,
  "nbformat_minor": 0,
  "metadata": {
    "kernelspec": {
      "display_name": "Python 3",
      "language": "python",
      "name": "python3"
    },
    "language_info": {
      "codemirror_mode": {
        "name": "ipython",
        "version": 3
      },
      "file_extension": ".py",
      "mimetype": "text/x-python",
      "name": "python",
      "nbconvert_exporter": "python",
      "pygments_lexer": "ipython3",
      "version": "3.5.4"
    },
    "colab": {
      "name": "Facebook-LinkPrediction.ipynb",
      "provenance": [],
      "collapsed_sections": []
    }
  },
  "cells": [
    {
      "cell_type": "markdown",
      "metadata": {
        "id": "2RI9SAiv2crm"
      },
      "source": [
        "# **Facebook Ego Network Link Prediction**"
      ]
    },
    {
      "cell_type": "markdown",
      "metadata": {
        "id": "Gh1pt1T-2l4d"
      },
      "source": [
        "## **Importing Necessary Libraries**"
      ]
    },
    {
      "cell_type": "code",
      "metadata": {
        "id": "JufAw32sIy1C"
      },
      "source": [
        "import networkx as nx\n",
        "import pandas as pd\n",
        "import numpy as np\n",
        "import tensorflow as tf"
      ],
      "execution_count": null,
      "outputs": []
    },
    {
      "cell_type": "code",
      "metadata": {
        "id": "HiEmQ2C8FjU9"
      },
      "source": [
        "ed=pd.read_csv(\"0.edges\")"
      ],
      "execution_count": null,
      "outputs": []
    },
    {
      "cell_type": "code",
      "metadata": {
        "id": "2uNXTZLOFjU9"
      },
      "source": [
        "l=[]\n",
        "for i in np.array(ed):\n",
        "    #print(i[0])\n",
        "    l.append(list(i[0].split(\" \")))\n",
        "g = nx.Graph()\n",
        "g1= nx.Graph()\n",
        "g2= nx.Graph()\n",
        "\n",
        "for i in l:\n",
        "    i.append('1')\n",
        "\n",
        "val_set=pd.DataFrame(l)"
      ],
      "execution_count": null,
      "outputs": []
    },
    {
      "cell_type": "markdown",
      "metadata": {
        "id": "l7DDksaVQ6ub"
      },
      "source": [
        "### **Jaccard Coefficient**"
      ]
    },
    {
      "cell_type": "code",
      "metadata": {
        "id": "UoDFMRVPFjVf"
      },
      "source": [
        "jaccard_train=nx.jaccard_coefficient(g,edges)"
      ],
      "execution_count": null,
      "outputs": []
    },
    {
      "cell_type": "code",
      "metadata": {
        "id": "ehT7p5SRFjVg"
      },
      "source": [
        "ll3=[]\n",
        "for i in jaccard_train:\n",
        "    ll3.append(i)\n",
        "  \n",
        "set2=pd.DataFrame(ll)\n",
        "set2['3']=pd.DataFrame(ll1)[2]/6000\n",
        "set2['4']=pd.DataFrame(ll2)[2]\n",
        "set2['5']=pd.DataFrame(ll3)[2]\n",
        "set2[2]=set2[2]/18"
      ],
      "execution_count": null,
      "outputs": []
    },
    {
      "cell_type": "code",
      "metadata": {
        "scrolled": true,
        "id": "bUpBXnrVFjVi",
        "outputId": "b4c05e4b-d20d-424a-9b22-e4cc0e2d396e"
      },
      "source": [
        "set2.head()"
      ],
      "execution_count": null,
      "outputs": [
        {
          "output_type": "execute_result",
          "data": {
            "text/html": [
              "<div>\n",
              "<style scoped>\n",
              "    .dataframe tbody tr th:only-of-type {\n",
              "        vertical-align: middle;\n",
              "    }\n",
              "\n",
              "    .dataframe tbody tr th {\n",
              "        vertical-align: top;\n",
              "    }\n",
              "\n",
              "    .dataframe thead th {\n",
              "        text-align: right;\n",
              "    }\n",
              "</style>\n",
              "<table border=\"1\" class=\"dataframe\">\n",
              "  <thead>\n",
              "    <tr style=\"text-align: right;\">\n",
              "      <th></th>\n",
              "      <th>0</th>\n",
              "      <th>1</th>\n",
              "      <th>2</th>\n",
              "      <th>3</th>\n",
              "      <th>4</th>\n",
              "      <th>5</th>\n",
              "    </tr>\n",
              "  </thead>\n",
              "  <tbody>\n",
              "    <tr>\n",
              "      <td>0</td>\n",
              "      <td>236</td>\n",
              "      <td>186</td>\n",
              "      <td>0.218739</td>\n",
              "      <td>0.258000</td>\n",
              "      <td>0.351658</td>\n",
              "      <td>0.234375</td>\n",
              "    </tr>\n",
              "    <tr>\n",
              "      <td>1</td>\n",
              "      <td>122</td>\n",
              "      <td>285</td>\n",
              "      <td>0.470997</td>\n",
              "      <td>0.475333</td>\n",
              "      <td>0.766349</td>\n",
              "      <td>0.421053</td>\n",
              "    </tr>\n",
              "    <tr>\n",
              "      <td>2</td>\n",
              "      <td>24</td>\n",
              "      <td>346</td>\n",
              "      <td>0.262757</td>\n",
              "      <td>0.065000</td>\n",
              "      <td>0.729288</td>\n",
              "      <td>0.518519</td>\n",
              "    </tr>\n",
              "    <tr>\n",
              "      <td>3</td>\n",
              "      <td>271</td>\n",
              "      <td>304</td>\n",
              "      <td>0.521765</td>\n",
              "      <td>0.648000</td>\n",
              "      <td>0.874706</td>\n",
              "      <td>0.384615</td>\n",
              "    </tr>\n",
              "    <tr>\n",
              "      <td>4</td>\n",
              "      <td>176</td>\n",
              "      <td>9</td>\n",
              "      <td>0.152752</td>\n",
              "      <td>0.121333</td>\n",
              "      <td>0.286133</td>\n",
              "      <td>0.169492</td>\n",
              "    </tr>\n",
              "  </tbody>\n",
              "</table>\n",
              "</div>"
            ],
            "text/plain": [
              "     0    1         2         3         4         5\n",
              "0  236  186  0.218739  0.258000  0.351658  0.234375\n",
              "1  122  285  0.470997  0.475333  0.766349  0.421053\n",
              "2   24  346  0.262757  0.065000  0.729288  0.518519\n",
              "3  271  304  0.521765  0.648000  0.874706  0.384615\n",
              "4  176    9  0.152752  0.121333  0.286133  0.169492"
            ]
          },
          "metadata": {
            "tags": []
          },
          "execution_count": 53
        }
      ]
    },
    {
      "cell_type": "code",
      "metadata": {
        "id": "wuI5suIwFjVj"
      },
      "source": [
        "g1.add_nodes_from(test_set[1])\n",
        "g1.add_nodes_from(test_set[2])"
      ],
      "execution_count": null,
      "outputs": []
    },
    {
      "cell_type": "code",
      "metadata": {
        "id": "10ZdyBx-FjVj"
      },
      "source": [
        "edges1 =list(np.array(test_set.iloc[: , 0:2]))\n",
        "g1.add_edges_from(edges1)"
      ],
      "execution_count": null,
      "outputs": []
    },
    {
      "cell_type": "code",
      "metadata": {
        "id": "vRmfnrVrFjVl",
        "outputId": "bc7c5976-802c-4216-c9d5-fa358ac543de"
      },
      "source": [
        "nx.draw_networkx(g1)"
      ],
      "execution_count": null,
      "outputs": [
        {
          "output_type": "display_data",
          "data": {
            "image/png": "[encoded data removed]",
            "text/plain": [
              "<Figure size 432x288 with 1 Axes>"
            ]
          },
          "metadata": {
            "tags": []
          }
        }
      ]
    },
    {
      "cell_type": "markdown",
      "metadata": {
        "id": "ek24bO8FZoV1"
      },
      "source": [
        "# **Supervised Learning Algorithms**\n",
        "\n",
        "Link prediction using following ML algorithms:\n",
        "\n",
        "*   Random Forest\n",
        "*   Support Vector Classifier\n",
        "*   Gaussian Naïve Bayes\n",
        "*   K - Nearest Neighbours\n",
        "\n"
      ]
    },
    {
      "cell_type": "markdown",
      "metadata": {
        "id": "6zlKkUK1cCLj"
      },
      "source": [
        "# **Train-Test Split**\n"
      ]
    },
    {
      "cell_type": "code",
      "metadata": {
        "id": "IcxpCjVvFjV4"
      },
      "source": [
        "from gae.preprocessing import mask_test_edges\n",
        "np.random.seed(0) # setting SEED value for train-test split\n",
        "adj_sparse = nx.to_scipy_sparse_matrix(g)\n",
        "\n",
        "# Perform train-test split\n",
        "adj_train, train_edges, val_edges, val_edges_false,test_edges, test_edges_false = mask_test_edges(adj_sparse)\n",
        "g_train = nx.from_scipy_sparse_matrix(adj_train) # new graph object with only non-hidden edges"
      ],
      "execution_count": null,
      "outputs": []
    },
    {
      "cell_type": "markdown",
      "metadata": {
        "id": "hj91Z86XaE7B"
      },
      "source": [
        "# **Random Forest Algorithm**\n",
        "\n",
        "\n"
      ]
    },
    {
      "cell_type": "code",
      "metadata": {
        "id": "AUwIoCeLFjVu"
      },
      "source": [
        "from sklearn.ensemble import RandomForestClassifier\n",
        "clf = RandomForestClassifier(n_estimators=100, max_depth=10,random_state=0).fit(set2[2:],train_set[2][2:])"
      ],
      "execution_count": null,
      "outputs": []
    },
    {
      "cell_type": "code",
      "metadata": {
        "id": "OOopZKVlFjVw",
        "outputId": "cc558397-0932-42e8-dae8-521fbed21f74"
      },
      "source": [
        "from sklearn.metrics import accuracy_score\n",
        "y_pred=clf.predict(set2[2:])\n",
        "y_true=train_set[2][2:]\n",
        "accuracy_score(y_true, y_pred)\n"
      ],
      "execution_count": null,
      "outputs": [
        {
          "output_type": "execute_result",
          "data": {
            "text/plain": [
              "0.7605242255758539"
            ]
          },
          "metadata": {
            "tags": []
          },
          "execution_count": 80
        }
      ]
    },
    {
      "cell_type": "markdown",
      "metadata": {
        "id": "KDMS7q84a2fH"
      },
      "source": [
        "# **Support Vector Classifier (SVC) Algorithm**"
      ]
    },
    {
      "cell_type": "code",
      "metadata": {
        "id": "5KjePmTCFjVx",
        "outputId": "5d100ecb-79b2-4bdb-e3ed-87d7f8b0b24d"
      },
      "source": [
        "import numpy as np\n",
        "from sklearn.svm import SVC\n",
        "clf = SVC(gamma='auto')\n",
        "clf.fit(set2[2:],train_set[2][2:])"
      ],
      "execution_count": null,
      "outputs": [
        {
          "output_type": "execute_result",
          "data": {
            "text/plain": [
              "SVC(C=1.0, cache_size=200, class_weight=None, coef0=0.0,\n",
              "    decision_function_shape='ovr', degree=3, gamma='auto', kernel='rbf',\n",
              "    max_iter=-1, probability=False, random_state=None, shrinking=True,\n",
              "    tol=0.001, verbose=False)"
            ]
          },
          "metadata": {
            "tags": []
          },
          "execution_count": 82
        }
      ]
    },
    {
      "cell_type": "code",
      "metadata": {
        "id": "0wzes5bVFjVy",
        "outputId": "e806884a-5bdb-494b-cd2f-672cb4d4d412"
      },
      "source": [
        "y_pred=clf.predict(set2[2:])\n",
        "y_true=train_set[2][2:]\n",
        "accuracy_score(y_true, y_pred)"
      ],
      "execution_count": null,
      "outputs": [
        {
          "output_type": "execute_result",
          "data": {
            "text/plain": [
              "0.8893963463065926"
            ]
          },
          "metadata": {
            "tags": []
          },
          "execution_count": 86
        }
      ]
    },
    {
      "cell_type": "markdown",
      "metadata": {
        "id": "eC5IFrdWbEtw"
      },
      "source": [
        "# **Gaussian Naïve Bayes Algorithm**"
      ]
    },
    {
      "cell_type": "code",
      "metadata": {
        "id": "xscjDfk_FjVy"
      },
      "source": [
        "from sklearn.model_selection import train_test_split\n",
        "from sklearn.naive_bayes import GaussianNB\n",
        "gnb= GaussianNB()\n",
        "y_pred = gnb.fit(set2[2:],train_set[2][2:]).predict(set2[2:])"
      ],
      "execution_count": null,
      "outputs": []
    },
    {
      "cell_type": "code",
      "metadata": {
        "id": "hAPyRwMZFjVz",
        "outputId": "051ae2d8-d427-4f13-f04a-3ec60176de2e"
      },
      "source": [
        "y_pred=gnb.predict(set2[2:])\n",
        "y_true=train_set[2][2:]\n",
        "accuracy_score(y_true, y_pred)"
      ],
      "execution_count": null,
      "outputs": [
        {
          "output_type": "execute_result",
          "data": {
            "text/plain": [
              "0.7494042891183479"
            ]
          },
          "metadata": {
            "tags": []
          },
          "execution_count": 89
        }
      ]
    },
    {
      "cell_type": "markdown",
      "metadata": {
        "id": "XKzAvzfsbKzl"
      },
      "source": [
        "# **K - Nearest Neighbours (KNN) Algorithm**"
      ]
    },
    {
      "cell_type": "code",
      "metadata": {
        "id": "pnz9DnmlFjV0",
        "outputId": "4abfda78-2efd-43aa-f314-07edbbf0988e"
      },
      "source": [
        "from sklearn.neighbors import KNeighborsClassifier\n",
        "neigh = KNeighborsClassifier(n_neighbors=3)\n",
        "neigh.fit(set2[2:],train_set[2][2:])"
      ],
      "execution_count": null,
      "outputs": [
        {
          "output_type": "execute_result",
          "data": {
            "text/plain": [
              "KNeighborsClassifier(algorithm='auto', leaf_size=30, metric='minkowski',\n",
              "                     metric_params=None, n_jobs=None, n_neighbors=3, p=2,\n",
              "                     weights='uniform')"
            ]
          },
          "metadata": {
            "tags": []
          },
          "execution_count": 90
        }
      ]
    },
    {
      "cell_type": "code",
      "metadata": {
        "id": "GKfJmeMaFjV1",
        "outputId": "6f9d8b14-02ef-48c7-fce9-1b7f54b39b18"
      },
      "source": [
        "y_pred=neigh.predict(set2[2:])\n",
        "y_true=train_set[2][2:]\n",
        "accuracy_score(y_true, y_pred)"
      ],
      "execution_count": null,
      "outputs": [
        {
          "output_type": "execute_result",
          "data": {
            "text/plain": [
              "0.8147339158061954"
            ]
          },
          "metadata": {
            "tags": []
          },
          "execution_count": 91
        }
      ]
    },
    {
      "cell_type": "markdown",
      "metadata": {
        "id": "7Pdm5JJIFok_"
      },
      "source": [
        "# **Accuracy Comparison**"
      ]
    },
    {
      "cell_type": "code",
      "metadata": {
        "id": "5NIXiOvjFtJS"
      },
      "source": [
        "acc = [\"KNN\",\"Gaussian Naive Bayes\",\"SVC\",\"Random Forest\"]\n",
        "model = [81.47,74.94,88.93,76.05]"
      ],
      "execution_count": null,
      "outputs": []
    },
    {
      "cell_type": "code",
      "metadata": {
        "colab": {
          "base_uri": "https://localhost:8080/",
          "height": 346
        },
        "id": "gIXLIxaBFtGX",
        "outputId": "16ab1c91-a9b1-4f48-d89e-290cfec986b1"
      },
      "source": [
        "import matplotlib.pyplot as plt\n",
        "import seaborn as sns\n",
        "plt.figure(figsize=[7,3],dpi = 100)\n",
        "plt.title('Accuracy Comparison')\n",
        "plt.xlabel('Accuracy')\n",
        "plt.ylabel('Algorithm')\n",
        "sns.barplot(x = acc,y = model,palette='dark')"
      ],
      "execution_count": null,
      "outputs": [
        {
          "output_type": "execute_result",
          "data": {
            "text/plain": [
              "<matplotlib.axes._subplots.AxesSubplot at 0x7fdd9b1aed90>"
            ]
          },
          "metadata": {
            "tags": []
          },
          "execution_count": 7
        },
        {
          "output_type": "display_data",
          "data": {
            "image/png": "[encoded data removed]",
            "text/plain": [
              "<Figure size 700x300 with 1 Axes>"
            ]
          },
          "metadata": {
            "tags": [],
            "needs_background": "light"
          }
        }
      ]
    }
  ]
}